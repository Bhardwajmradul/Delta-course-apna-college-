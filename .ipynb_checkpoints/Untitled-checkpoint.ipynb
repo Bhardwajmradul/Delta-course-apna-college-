{
 "cells": [
  {
   "cell_type": "code",
   "execution_count": 18,
   "id": "3c364e77",
   "metadata": {},
   "outputs": [
    {
     "data": {
      "text/plain": [
       "Value of data is- 0.6905799816603346"
      ]
     },
     "execution_count": 18,
     "metadata": {},
     "output_type": "execute_result"
    }
   ],
   "source": [
    "import torch\n",
    "import math\n",
    "import random\n",
    "class value:\n",
    "    def __init__(self,data,ch=(),op=\"\"):\n",
    "        self.data=data\n",
    "        self._backprop= lambda: None\n",
    "        self.prv=set(ch)\n",
    "        self.op=op\n",
    "        self.grad=0\n",
    "    def __repr__(self):\n",
    "        return f\"Value of data is- {self.data}\"\n",
    "    def __add__(self,other):\n",
    "\n",
    "        out=value(self.data+other.data,(self,other),\"+\")\n",
    "        def _backprop():\n",
    "            self.grad+=1*out.grad\n",
    "            other.grad+=1*out.grad\n",
    "        out._backprop=_backprop\n",
    "        return out\n",
    "    def __radd__(self, other): # other * self\n",
    "        return self * other\n",
    "    def __mul__(self,other):\n",
    "        other = other if isinstance(other, value) else value(other)\n",
    "        out=value(self.data * other.data,(self,other),\"*\")\n",
    "        def _backprop():\n",
    "            self.grad+=other.data*out.grad\n",
    "            other.grad+=self.data*out.grad\n",
    "        out._backprop=_backprop  \n",
    "        return out\n",
    "    def __rmul__(self, other): # other * self\n",
    "        return self * other\n",
    "    def __truediv__(self,other):\n",
    "        out=value(self.data / other.data)\n",
    "        return out\n",
    "    def tanh(self):\n",
    "        x=self.data\n",
    "        t=(math.exp(2*x)-1)/(math.exp(2*x)+1)\n",
    "        out=value(t,(self,),'tanh')\n",
    "        def _backprop():\n",
    "            self.grad+=1-t**2*out.grad\n",
    "        out._backprop=_backprop\n",
    "        return out\n",
    "    def sub(self,other):\n",
    "        out=value(self.data-other.data,(self,other),'-')\n",
    "        return out\n",
    "import random\n",
    "class Neuron:\n",
    "    def __init__(self,nin):\n",
    "        self.w=[value(random.uniform(-1,1)) for _ in range(nin)]\n",
    "        self.b=value(random.uniform(-1,1))\n",
    "    def __call__(self,x):\n",
    "        act=sum(wi*xi for wi,xi in zip(self.w,x))+ self.b\n",
    "        out=act.tanh()\n",
    "        return out\n",
    "x=[2.0,3.0]\n",
    "n=Neuron(2)\n",
    "n(x)\n",
    "        "
   ]
  },
  {
   "cell_type": "code",
   "execution_count": 70,
   "id": "e2d3ac42",
   "metadata": {},
   "outputs": [
    {
     "data": {
      "text/plain": [
       "0.6347395899824584"
      ]
     },
     "execution_count": 70,
     "metadata": {},
     "output_type": "execute_result"
    }
   ],
   "source": [
    "x1=value(2)\n",
    "x2=value(0)\n",
    "w1=value(-3)\n",
    "w2=value(1)\n",
    "b=value(6.7)\n",
    "x1w1=x1*w1\n",
    "x2w2=x2*w2\n",
    "x1w1x2w2=x1w1+x2w2\n",
    "n=x1w1x2w2+b\n",
    "o=value(1)\n",
    "o=n.tanh()\n",
    "o.grad=1\n",
    "o._backprop()\n",
    "n._backprop()\n",
    "x1w1x2w2._backprop()\n",
    "x2w2._backprop()\n",
    "x2.grad"
   ]
  },
  {
   "cell_type": "code",
   "execution_count": 69,
   "id": "afd40252",
   "metadata": {},
   "outputs": [
    {
     "name": "stdout",
     "output_type": "stream",
     "text": [
      "0.6347012285690123\n"
     ]
    }
   ],
   "source": [
    "h=value(0.0001)\n",
    "x1=value(2)\n",
    "x2=value(0)+h\n",
    "w1=w1\n",
    "w2=value(1)\n",
    "b=value(6.7)\n",
    "x1w1=x1*w1\n",
    "x2w2=x2*w2\n",
    "x1w1x2w2=x1w1+x2w2\n",
    "n=x1w1x2w2+b\n",
    "O=n.tanh()\n",
    "print((O.data-o.data)/h.data)"
   ]
  },
  {
   "cell_type": "code",
   "execution_count": 50,
   "id": "b7ac7c04",
   "metadata": {},
   "outputs": [
    {
     "data": {
      "text/plain": [
       "0.6347395899824584"
      ]
     },
     "execution_count": 50,
     "metadata": {},
     "output_type": "execute_result"
    }
   ],
   "source": [
    "1-o.data**2"
   ]
  },
  {
   "cell_type": "code",
   "execution_count": 12,
   "id": "34421232",
   "metadata": {},
   "outputs": [
    {
     "ename": "AttributeError",
     "evalue": "'float' object has no attribute 'data'",
     "output_type": "error",
     "traceback": [
      "\u001b[1;31m---------------------------------------------------------------------------\u001b[0m",
      "\u001b[1;31mAttributeError\u001b[0m                            Traceback (most recent call last)",
      "Cell \u001b[1;32mIn[12], line 12\u001b[0m\n\u001b[0;32m     10\u001b[0m x\u001b[38;5;241m=\u001b[39m[\u001b[38;5;241m2.0\u001b[39m,\u001b[38;5;241m3.0\u001b[39m]\n\u001b[0;32m     11\u001b[0m n\u001b[38;5;241m=\u001b[39mNeuron(\u001b[38;5;241m2\u001b[39m)\n\u001b[1;32m---> 12\u001b[0m \u001b[43mn\u001b[49m\u001b[43m(\u001b[49m\u001b[43mx\u001b[49m\u001b[43m)\u001b[49m\n",
      "Cell \u001b[1;32mIn[12], line 7\u001b[0m, in \u001b[0;36mNeuron.__call__\u001b[1;34m(self, x)\u001b[0m\n\u001b[0;32m      6\u001b[0m \u001b[38;5;28;01mdef\u001b[39;00m \u001b[38;5;21m__call__\u001b[39m(\u001b[38;5;28mself\u001b[39m,x):\n\u001b[1;32m----> 7\u001b[0m     act\u001b[38;5;241m=\u001b[39m\u001b[38;5;28;43msum\u001b[39;49m\u001b[43m(\u001b[49m\u001b[43mwi\u001b[49m\u001b[38;5;241;43m*\u001b[39;49m\u001b[43mxi\u001b[49m\u001b[43m \u001b[49m\u001b[38;5;28;43;01mfor\u001b[39;49;00m\u001b[43m \u001b[49m\u001b[43mwi\u001b[49m\u001b[43m,\u001b[49m\u001b[43mxi\u001b[49m\u001b[43m \u001b[49m\u001b[38;5;129;43;01min\u001b[39;49;00m\u001b[43m \u001b[49m\u001b[38;5;28;43mzip\u001b[39;49m\u001b[43m(\u001b[49m\u001b[38;5;28;43mself\u001b[39;49m\u001b[38;5;241;43m.\u001b[39;49m\u001b[43mw\u001b[49m\u001b[43m,\u001b[49m\u001b[43mx\u001b[49m\u001b[43m)\u001b[49m\u001b[43m)\u001b[49m\u001b[38;5;241m+\u001b[39m \u001b[38;5;28mself\u001b[39m\u001b[38;5;241m.\u001b[39mb\n\u001b[0;32m      8\u001b[0m     out\u001b[38;5;241m=\u001b[39mact\u001b[38;5;241m.\u001b[39mtanh()\n\u001b[0;32m      9\u001b[0m     \u001b[38;5;28;01mreturn\u001b[39;00m out\n",
      "Cell \u001b[1;32mIn[12], line 7\u001b[0m, in \u001b[0;36m<genexpr>\u001b[1;34m(.0)\u001b[0m\n\u001b[0;32m      6\u001b[0m \u001b[38;5;28;01mdef\u001b[39;00m \u001b[38;5;21m__call__\u001b[39m(\u001b[38;5;28mself\u001b[39m,x):\n\u001b[1;32m----> 7\u001b[0m     act\u001b[38;5;241m=\u001b[39m\u001b[38;5;28msum\u001b[39m(\u001b[43mwi\u001b[49m\u001b[38;5;241;43m*\u001b[39;49m\u001b[43mxi\u001b[49m \u001b[38;5;28;01mfor\u001b[39;00m wi,xi \u001b[38;5;129;01min\u001b[39;00m \u001b[38;5;28mzip\u001b[39m(\u001b[38;5;28mself\u001b[39m\u001b[38;5;241m.\u001b[39mw,x))\u001b[38;5;241m+\u001b[39m \u001b[38;5;28mself\u001b[39m\u001b[38;5;241m.\u001b[39mb\n\u001b[0;32m      8\u001b[0m     out\u001b[38;5;241m=\u001b[39mact\u001b[38;5;241m.\u001b[39mtanh()\n\u001b[0;32m      9\u001b[0m     \u001b[38;5;28;01mreturn\u001b[39;00m out\n",
      "Cell \u001b[1;32mIn[1], line 20\u001b[0m, in \u001b[0;36mvalue.__mul__\u001b[1;34m(self, other)\u001b[0m\n\u001b[0;32m     19\u001b[0m \u001b[38;5;28;01mdef\u001b[39;00m \u001b[38;5;21m__mul__\u001b[39m(\u001b[38;5;28mself\u001b[39m,other):\n\u001b[1;32m---> 20\u001b[0m     out\u001b[38;5;241m=\u001b[39mvalue(\u001b[38;5;28mself\u001b[39m\u001b[38;5;241m.\u001b[39mdata \u001b[38;5;241m*\u001b[39m \u001b[43mother\u001b[49m\u001b[38;5;241;43m.\u001b[39;49m\u001b[43mdata\u001b[49m,(\u001b[38;5;28mself\u001b[39m,other),\u001b[38;5;124m\"\u001b[39m\u001b[38;5;124m*\u001b[39m\u001b[38;5;124m\"\u001b[39m)\n\u001b[0;32m     21\u001b[0m     \u001b[38;5;28;01mdef\u001b[39;00m \u001b[38;5;21m_backprop\u001b[39m():\n\u001b[0;32m     22\u001b[0m         \u001b[38;5;28mself\u001b[39m\u001b[38;5;241m.\u001b[39mgrad\u001b[38;5;241m+\u001b[39m\u001b[38;5;241m=\u001b[39mother\u001b[38;5;241m.\u001b[39mdata\u001b[38;5;241m*\u001b[39mout\u001b[38;5;241m.\u001b[39mgrad\n",
      "\u001b[1;31mAttributeError\u001b[0m: 'float' object has no attribute 'data'"
     ]
    }
   ],
   "source": [
    "import random\n",
    "class Neuron:\n",
    "    def __init__(self,nin):\n",
    "        self.w=[value(random.uniform(-1,1)) for _ in range(nin)]\n",
    "        self.b=value(random.uniform(-1,1))\n",
    "    def __call__(self,x):\n",
    "        act=sum(wi*xi for wi,xi in zip(self.w,x))+ self.b\n",
    "        out=act.tanh()\n",
    "        return out\n",
    "x=[2.0,3.0]\n",
    "n=Neuron(2)\n",
    "n(x)\n",
    "        "
   ]
  },
  {
   "cell_type": "code",
   "execution_count": null,
   "id": "83791f5f",
   "metadata": {},
   "outputs": [],
   "source": []
  }
 ],
 "metadata": {
  "kernelspec": {
   "display_name": "Python 3 (ipykernel)",
   "language": "python",
   "name": "python3"
  },
  "language_info": {
   "codemirror_mode": {
    "name": "ipython",
    "version": 3
   },
   "file_extension": ".py",
   "mimetype": "text/x-python",
   "name": "python",
   "nbconvert_exporter": "python",
   "pygments_lexer": "ipython3",
   "version": "3.10.9"
  }
 },
 "nbformat": 4,
 "nbformat_minor": 5
}
